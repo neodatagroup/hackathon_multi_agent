{
 "cells": [
  {
   "cell_type": "markdown",
   "id": "85e49e43",
   "metadata": {},
   "source": [
    "# 📘 In-Depth Guide to Pydantic v2"
   ]
  },
  {
   "cell_type": "markdown",
   "id": "438215b9",
   "metadata": {},
   "source": [
    "### 📘 Outline\n",
    "This guide provided an in-depth look at Pydantic v2, covering:\n",
    "1. Basic model creation\n",
    "2. Field constraints\n",
    "3. Nested models\n",
    "4. Optional fields\n",
    "5. Custom validators\n",
    "6. Computed fields\n",
    "7. Model configuration\n",
    "8. Parsing from dictionaries and JSON\n",
    "9. Serialization\n",
    "10. Handling flexible types with `Union`\n",
    "\n",
    "This notebook offers a solid foundation for Pydantic and is great for managing data structures with validation and organization."
   ]
  },
  {
   "cell_type": "code",
   "execution_count": null,
   "id": "85d8f42b",
   "metadata": {},
   "outputs": [],
   "source": [
    "# First, ensure Pydantic v2 is installed\n",
    "# !pip install pydantic"
   ]
  },
  {
   "cell_type": "markdown",
   "id": "afc13f45",
   "metadata": {},
   "source": [
    "## 1. Importing and Defining Basic Models\n",
    "The primary building block of Pydantic is the `BaseModel`. Define a basic model by inheriting from `BaseModel` and defining typed attributes.\n"
   ]
  },
  {
   "cell_type": "code",
   "execution_count": null,
   "id": "ec2f44fc",
   "metadata": {},
   "outputs": [],
   "source": [
    "from pydantic import BaseModel, Field\n",
    "\n",
    "class User(BaseModel):\n",
    "    id: int\n",
    "    name: str\n",
    "    email: str\n",
    "\n",
    "# Creating a User instance\n",
    "user = User(id=1, name='Alice', email='alice@example.com')\n",
    "print('User instance:', user)\n",
    "print(\"User's email:\", user.email)"
   ]
  },
  {
   "cell_type": "markdown",
   "id": "a77904e2",
   "metadata": {},
   "source": [
    "## 2. Field Validation with Constraints\n",
    "Pydantic allows constraints on fields, like minimum and maximum length, numeric bounds, and regular expressions."
   ]
  },
  {
   "cell_type": "code",
   "execution_count": null,
   "id": "1edf5626",
   "metadata": {},
   "outputs": [],
   "source": [
    "class Product(BaseModel):\n",
    "    name: str = Field(..., min_length=2, max_length=50)\n",
    "    price: float = Field(..., gt=0)  # Price must be greater than 0\n",
    "\n",
    "# Valid Product\n",
    "product = Product(name='Laptop', price=1200.0)\n",
    "print('Valid product:', product)"
   ]
  },
  {
   "cell_type": "markdown",
   "id": "ef3675eb",
   "metadata": {},
   "source": [
    "## 3. Nested Models for Complex Data Structures\n",
    "Pydantic supports nested models, which allow you to create complex hierarchical data."
   ]
  },
  {
   "cell_type": "code",
   "execution_count": null,
   "id": "b5e487c5",
   "metadata": {},
   "outputs": [],
   "source": [
    "class Address(BaseModel):\n",
    "    street: str\n",
    "    city: str\n",
    "    zip_code: str\n",
    "\n",
    "class UserWithAddress(BaseModel):\n",
    "    id: int\n",
    "    name: str\n",
    "    address: Address  # Nested Address model\n",
    "\n",
    "user_with_address = UserWithAddress(\n",
    "    id=1,\n",
    "    name='Alice',\n",
    "    address=Address(street='123 Main St', city='Wonderland', zip_code='12345')\n",
    ")\n",
    "print('User with Address:', user_with_address)"
   ]
  },
  {
   "cell_type": "markdown",
   "id": "01a57f2b",
   "metadata": {},
   "source": [
    "## 4. Optional Fields\n",
    "Fields can be optional by setting a default value or using `Optional` from `typing`."
   ]
  },
  {
   "cell_type": "code",
   "execution_count": null,
   "id": "65cec4ac",
   "metadata": {},
   "outputs": [],
   "source": [
    "from typing import Optional\n",
    "\n",
    "class Item(BaseModel):\n",
    "    name: str\n",
    "    description: Optional[str] = None  # Optional field with a default of None\n",
    "    price: float\n",
    "\n",
    "item = Item(name='Tablet', price=300.0)\n",
    "print('Item with optional description:', item)"
   ]
  },
  {
   "cell_type": "markdown",
   "id": "276d8157",
   "metadata": {},
   "source": [
    "## 5. Custom Validators\n",
    "Define custom validation logic with the `@field_validator` decorator, which can be useful for advanced validation requirements."
   ]
  },
  {
   "cell_type": "code",
   "execution_count": null,
   "id": "1752251b",
   "metadata": {},
   "outputs": [],
   "source": [
    "from pydantic import FieldValidationInfo\n",
    "\n",
    "class Employee(BaseModel):\n",
    "    name: str\n",
    "    age: int\n",
    "\n",
    "    @field_validator('age')\n",
    "    def check_age(cls, v: int, info: FieldValidationInfo):\n",
    "        if v < 18 or v > 65:\n",
    "            raise ValueError('Age must be between 18 and 65')\n",
    "        return v\n",
    "\n",
    "# Valid instance\n",
    "employee = Employee(name='John Doe', age=30)\n",
    "print('Valid employee:', employee)"
   ]
  },
  {
   "cell_type": "markdown",
   "id": "2a868d49",
   "metadata": {},
   "source": [
    "## 6. Computed Fields\n",
    "Computed fields are properties that depend on other fields and are not directly set by users."
   ]
  },
  {
   "cell_type": "code",
   "execution_count": null,
   "id": "a925b51c",
   "metadata": {},
   "outputs": [],
   "source": [
    "from pydantic import computed_field\n",
    "\n",
    "class InvoiceItem(BaseModel):\n",
    "    unit_price: float\n",
    "    quantity: int\n",
    "\n",
    "    @computed_field\n",
    "    def total_price(self) -> float:\n",
    "        return self.unit_price * self.quantity\n",
    "\n",
    "item = InvoiceItem(unit_price=20.0, quantity=3)\n",
    "print('Total price:', item.total_price)"
   ]
  },
  {
   "cell_type": "markdown",
   "id": "b1c17d17",
   "metadata": {},
   "source": [
    "## 7. Configuring Models\n",
    "You can customize model behavior using `model_config`."
   ]
  },
  {
   "cell_type": "code",
   "execution_count": null,
   "id": "b1042914",
   "metadata": {},
   "outputs": [],
   "source": [
    "class FlexibleUser(BaseModel):\n",
    "    id: int\n",
    "    name: str\n",
    "\n",
    "    class Config:\n",
    "        allow_population_by_field_name = True\n",
    "\n",
    "user = FlexibleUser(id=1, name='Emma')\n",
    "print('Configured model:', user)"
   ]
  },
  {
   "cell_type": "markdown",
   "id": "9a41a272",
   "metadata": {},
   "source": [
    "## 8. Parsing Data from JSON and Dictionaries\n",
    "Pydantic makes it easy to parse data from dictionaries and JSON, ideal for handling data from external sources."
   ]
  },
  {
   "cell_type": "code",
   "execution_count": null,
   "id": "f4beb05d",
   "metadata": {},
   "outputs": [],
   "source": [
    "user_data = {'id': 2, 'name': 'Charlie', 'email': 'charlie@example.com'}\n",
    "user = User.parse_obj(user_data)\n",
    "print('Parsed user from dict:', user)\n",
    "\n",
    "from pydantic import parse_obj_as\n",
    "\n",
    "users_data = [\n",
    "    {'id': 3, 'name': 'Eve', 'email': 'eve@example.com'},\n",
    "    {'id': 4, 'name': 'Frank', 'email': 'frank@example.com'}\n",
    "]\n",
    "users = parse_obj_as(list[User], users_data)\n",
    "print('Parsed list of users:', users)"
   ]
  },
  {
   "cell_type": "markdown",
   "id": "5dfc9046",
   "metadata": {},
   "source": [
    "## 9. Serialization and Model Conversion\n",
    "Pydantic models can easily be converted back to dictionaries or JSON strings."
   ]
  },
  {
   "cell_type": "code",
   "execution_count": null,
   "id": "e2095f76",
   "metadata": {},
   "outputs": [],
   "source": [
    "user_dict = user.dict()\n",
    "print('User as dict:', user_dict)\n",
    "\n",
    "user_json = user.json()\n",
    "print('User as JSON:', user_json)"
   ]
  },
  {
   "cell_type": "markdown",
   "id": "b7117320",
   "metadata": {},
   "source": [
    "## 10. Handling Multiple Types with `Union`\n",
    "Pydantic can handle fields that accept multiple types, using `Union`."
   ]
  },
  {
   "cell_type": "code",
   "execution_count": null,
   "id": "5e93d450",
   "metadata": {},
   "outputs": [],
   "source": [
    "from typing import Union\n",
    "\n",
    "class Payment(BaseModel):\n",
    "    amount: float\n",
    "    method: Union[str, int]  # Method can be a string or an integer\n",
    "\n",
    "payment1 = Payment(amount=99.99, method='credit card')\n",
    "payment2 = Payment(amount=150.0, method=1234)\n",
    "print('Payment with method as string:', payment1)\n",
    "print('Payment with method as int:', payment2)"
   ]
  }
 ],
 "metadata": {
  "language_info": {
   "name": "python"
  }
 },
 "nbformat": 4,
 "nbformat_minor": 5
}
